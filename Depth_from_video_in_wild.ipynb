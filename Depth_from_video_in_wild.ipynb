{
  "nbformat": 4,
  "nbformat_minor": 0,
  "metadata": {
    "colab": {
      "name": "Depth_from_video_in_wild.ipynb",
      "provenance": [],
      "collapsed_sections": [],
      "include_colab_link": true
    },
    "kernelspec": {
      "name": "python2",
      "display_name": "Python 2"
    },
    "accelerator": "GPU"
  },
  "cells": [
    {
      "cell_type": "markdown",
      "metadata": {
        "id": "view-in-github",
        "colab_type": "text"
      },
      "source": [
        "<a href=\"https://colab.research.google.com/github/apurvtwr/Jarvis/blob/master/Depth_from_video_in_wild.ipynb\" target=\"_parent\"><img src=\"https://colab.research.google.com/assets/colab-badge.svg\" alt=\"Open In Colab\"/></a>"
      ]
    },
    {
      "cell_type": "code",
      "metadata": {
        "id": "tPfipeb14eU3",
        "colab_type": "code",
        "outputId": "30f00564-d0a0-406d-f9bd-69cfcd66472f",
        "colab": {
          "base_uri": "https://localhost:8080/",
          "height": 34
        }
      },
      "source": [
        "# pytorch implementation of https://arxiv.org/pdf/1904.04998.pdf\n",
        "from os import path\n",
        "from wheel.pep425tags import get_abbr_impl, get_impl_ver, get_abi_tag\n",
        "platform = '{}{}-{}'.format(get_abbr_impl(), get_impl_ver(), get_abi_tag())\n",
        "\n",
        "accelerator = 'cu80' if path.exists('/opt/bin/nvidia-smi') else 'cpu'\n",
        "\n",
        "!pip install -q torch torchvision\n",
        "import torch\n",
        "torch.cuda.is_available(), torch.__version__"
      ],
      "execution_count": 0,
      "outputs": [
        {
          "output_type": "execute_result",
          "data": {
            "text/plain": [
              "(True, '1.2.0')"
            ]
          },
          "metadata": {
            "tags": []
          },
          "execution_count": 7
        }
      ]
    },
    {
      "cell_type": "code",
      "metadata": {
        "id": "FsSOT1Hp5U5T",
        "colab_type": "code",
        "colab": {}
      },
      "source": [
        "class TransformedDepthMap(object) :\n",
        "  \"\"\"\n",
        "  An object of this class will hold the depth values per pixel\n",
        "  after it has been transformed by rotation and translation vectors \n",
        "  corresponding to the rotation of the camera and translation of \n",
        "  camera (background) and potentially moving objects (foreground).\n",
        "\n",
        "  Obviously not all pixels that were previously visible will be visible after \n",
        "  these transformation, so an additional map of xy visibility will be present\n",
        "  to help only penalise points that should be visible post transformation\n",
        "  \"\"\"\n",
        "  def __init__(self, depth, visbility_xy) :\n",
        "    self.__depth = depth\n",
        "    self.__visbility_xy = visbility_xy\n",
        "    \n",
        "  @property\n",
        "  def depth(self) :\n",
        "    return self.__depth\n",
        "  \n",
        "  @property\n",
        "  def visibility_xy(self) :\n",
        "    return self.__visbility_xy"
      ],
      "execution_count": 0,
      "outputs": []
    },
    {
      "cell_type": "code",
      "metadata": {
        "id": "EH9K2yG1gWIs",
        "colab_type": "code",
        "colab": {}
      },
      "source": [
        ""
      ],
      "execution_count": 0,
      "outputs": []
    },
    {
      "cell_type": "code",
      "metadata": {
        "id": "ypRUUn6D5BZ5",
        "colab_type": "code",
        "outputId": "b696412d-4721-4fca-bcb6-7ab60f53eaf0",
        "colab": {
          "base_uri": "https://localhost:8080/",
          "height": 34
        }
      },
      "source": [
        ""
      ],
      "execution_count": 0,
      "outputs": [
        {
          "output_type": "execute_result",
          "data": {
            "text/plain": [
              "False"
            ]
          },
          "metadata": {
            "tags": []
          },
          "execution_count": 4
        }
      ]
    },
    {
      "cell_type": "code",
      "metadata": {
        "id": "NW5raMH55qmc",
        "colab_type": "code",
        "colab": {}
      },
      "source": [
        ""
      ],
      "execution_count": 0,
      "outputs": []
    }
  ]
}